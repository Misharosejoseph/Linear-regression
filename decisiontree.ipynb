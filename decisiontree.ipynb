{
  "nbformat": 4,
  "nbformat_minor": 0,
  "metadata": {
    "colab": {
      "provenance": [],
      "authorship_tag": "ABX9TyMJimY4CXa2uRybwSidVKya",
      "include_colab_link": true
    },
    "kernelspec": {
      "name": "python3",
      "display_name": "Python 3"
    },
    "language_info": {
      "name": "python"
    }
  },
  "cells": [
    {
      "cell_type": "markdown",
      "metadata": {
        "id": "view-in-github",
        "colab_type": "text"
      },
      "source": [
        "<a href=\"https://colab.research.google.com/github/Misharosejoseph/Linear-regression/blob/main/decisiontree.ipynb\" target=\"_parent\"><img src=\"https://colab.research.google.com/assets/colab-badge.svg\" alt=\"Open In Colab\"/></a>"
      ]
    },
    {
      "cell_type": "code",
      "execution_count": 1,
      "metadata": {
        "colab": {
          "base_uri": "https://localhost:8080/"
        },
        "id": "dWK3zJ47K7g4",
        "outputId": "775b6b8f-8737-4dfe-eb82-ea437be59dcd"
      },
      "outputs": [
        {
          "output_type": "stream",
          "name": "stdout",
          "text": [
            "|--- Income <= 1.50\n",
            "|   |--- Age <= 0.50\n",
            "|   |   |--- class: 0\n",
            "|   |--- Age >  0.50\n",
            "|   |   |--- Income <= 0.50\n",
            "|   |   |   |--- class: 1\n",
            "|   |   |--- Income >  0.50\n",
            "|   |   |   |--- class: 0\n",
            "|--- Income >  1.50\n",
            "|   |--- class: 1\n",
            "\n",
            "Prediction (1=Yes, 0=No): 0\n"
          ]
        }
      ],
      "source": [
        "# Decision Tree Example - Simple and Easy\n",
        "from sklearn.tree import DecisionTreeClassifier, export_text\n",
        "\n",
        "# Sample data\n",
        "# Features: [Age, Income]\n",
        "# Age: 0 = Young, 1 = Middle-aged, 2 = Old\n",
        "# Income: 0 = Low, 1 = Medium, 2 = High\n",
        "X = [\n",
        "    [0, 0],  # Young, Low\n",
        "    [0, 2],  # Young, High\n",
        "    [1, 0],  # Middle-aged, Low\n",
        "    [1, 2],  # Middle-aged, High\n",
        "    [2, 1],  # Old, Medium\n",
        "    [2, 2]   # Old, High\n",
        "]\n",
        "\n",
        "# Labels (Target): Buy Computer? 1 = Yes, 0 = No\n",
        "y = [0, 1, 1, 1, 0, 1]\n",
        "\n",
        "# Create and train model\n",
        "clf = DecisionTreeClassifier(criterion=\"entropy\")\n",
        "clf.fit(X, y)\n",
        "\n",
        "# Show tree rules in text\n",
        "tree_rules = export_text(clf, feature_names=[\"Age\", \"Income\"])\n",
        "print(tree_rules)\n",
        "\n",
        "# Make a prediction\n",
        "sample = [[0, 1]]  # Young with Medium income\n",
        "print(\"Prediction (1=Yes, 0=No):\", clf.predict(sample)[0])\n"
      ]
    }
  ]
}